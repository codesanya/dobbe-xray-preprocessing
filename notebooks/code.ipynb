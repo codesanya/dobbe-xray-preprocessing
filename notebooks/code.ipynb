{
  "nbformat": 4,
  "nbformat_minor": 0,
  "metadata": {
    "colab": {
      "provenance": [],
      "authorship_tag": "ABX9TyNMefc+Z9xAnQKZwzHMaG92",
      "include_colab_link": true
    },
    "kernelspec": {
      "name": "python3",
      "display_name": "Python 3"
    },
    "language_info": {
      "name": "python"
    }
  },
  "cells": [
    {
      "cell_type": "markdown",
      "metadata": {
        "id": "view-in-github",
        "colab_type": "text"
      },
      "source": [
        "<a href=\"https://colab.research.google.com/github/codesanya/dobbe-xray-preprocessing/blob/main/notebooks/code.ipynb\" target=\"_parent\"><img src=\"https://colab.research.google.com/assets/colab-badge.svg\" alt=\"Open In Colab\"/></a>"
      ]
    },
    {
      "cell_type": "code",
      "execution_count": 1,
      "metadata": {
        "id": "S67-VC1dd-R2",
        "outputId": "3723fb16-3e7c-45e2-b03e-b824a803a836",
        "colab": {
          "base_uri": "https://localhost:8080/"
        }
      },
      "outputs": [
        {
          "output_type": "stream",
          "name": "stdout",
          "text": [
            "Mounted at /content/drive\n"
          ]
        }
      ],
      "source": [
        "from google.colab import drive\n",
        "drive.mount('/content/drive')\n"
      ]
    },
    {
      "cell_type": "code",
      "source": [
        "import os\n",
        "data_path = '/content/drive/MyDrive/Images_Data_science_intern'\n",
        "print(os.listdir(data_path))  # Should list your .dcm, .rvg files\n"
      ],
      "metadata": {
        "id": "l69GjoEP9olv",
        "outputId": "0f5159db-979b-412a-845c-482e7fa5adca",
        "colab": {
          "base_uri": "https://localhost:8080/"
        }
      },
      "execution_count": 2,
      "outputs": [
        {
          "output_type": "stream",
          "name": "stdout",
          "text": [
            "['IS20250116_180218_7445_56958340.dcm', 'R9.rvg', 'R5.rvg', 'IS20250115_190348_9148_86297118.dcm', 'R6.rvg', 'R10.rvg', 'R7.rvg', 'IS20250115_171841_9465_61003253.dcm', 'IS20250218_193552_3393_78829426.dcm', 'R4.rvg', 'IS20250115_191316_7227_10120577.dcm', 'IS20250221_192657_5718_56712676.dcm', 'Reference_Output_Quality.jpg', 'IS20250218_193621_8940_10081171.dcm']\n"
          ]
        }
      ]
    },
    {
      "cell_type": "code",
      "source": [
        "# Clone your GitHub repo into Colab\n",
        "!git clone https://github.com/codesanya/dobbe-xray-preprocessing.git\n",
        "%cd dobbe-xray-preprocessing\n"
      ],
      "metadata": {
        "id": "GPEJBFYs9xz_",
        "outputId": "77764d9e-fb20-409f-b6e0-28b454da9bf9",
        "colab": {
          "base_uri": "https://localhost:8080/"
        }
      },
      "execution_count": 3,
      "outputs": [
        {
          "output_type": "stream",
          "name": "stdout",
          "text": [
            "Cloning into 'dobbe-xray-preprocessing'...\n",
            "remote: Enumerating objects: 20, done.\u001b[K\n",
            "remote: Counting objects: 100% (20/20), done.\u001b[K\n",
            "remote: Compressing objects: 100% (15/15), done.\u001b[K\n",
            "remote: Total 20 (delta 2), reused 13 (delta 0), pack-reused 0 (from 0)\u001b[K\n",
            "Receiving objects: 100% (20/20), done.\n",
            "Resolving deltas: 100% (2/2), done.\n",
            "/content/dobbe-xray-preprocessing\n"
          ]
        }
      ]
    },
    {
      "cell_type": "code",
      "source": [],
      "metadata": {
        "id": "mUz8pWxz913s"
      },
      "execution_count": null,
      "outputs": []
    }
  ]
}